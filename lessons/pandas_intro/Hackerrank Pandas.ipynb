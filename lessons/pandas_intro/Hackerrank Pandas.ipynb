{
 "cells": [
  {
   "cell_type": "code",
   "execution_count": null,
   "metadata": {},
   "outputs": [],
   "source": [
    "# WARNING: If you close your browser, your work will be LOST!\n",
    "\n",
    "# Q1: import numpy and pandas\n",
    "\n",
    "# Q2: Set options in pandas so it displays 30 `max_rows` \n",
    "#                                 no limit on `max_columns`\n",
    "#                                 precision is 3\n",
    "\n",
    "import numpy as np\n",
    "import pandas as pd"
   ]
  },
  {
   "cell_type": "code",
   "execution_count": 1,
   "metadata": {},
   "outputs": [],
   "source": [
    "import numpy as np\n",
    "import pandas as pd"
   ]
  },
  {
   "cell_type": "code",
   "execution_count": 85,
   "metadata": {},
   "outputs": [],
   "source": [
    "pd.set_option('display.max_rows', 30)\n",
    "pd.set_option('display.max_columns', None)\n",
    "pd.set_option('display.precision', 3)"
   ]
  },
  {
   "cell_type": "code",
   "execution_count": 4,
   "metadata": {},
   "outputs": [],
   "source": [
    "# Q3: assign the versions of pandas and numpy to variables below\n",
    "pd_version = pd.__version__\n",
    "np_version = np.__version__\n",
    "\n"
   ]
  },
  {
   "cell_type": "code",
   "execution_count": 19,
   "metadata": {},
   "outputs": [
    {
     "name": "stdout",
     "output_type": "stream",
     "text": [
      "/Users/nicolesemerano/Downloads/dsp-master/lessons/pandas_intro\n"
     ]
    }
   ],
   "source": [
    "import os\n",
    "print(os.getcwd())"
   ]
  },
  {
   "cell_type": "code",
   "execution_count": 74,
   "metadata": {},
   "outputs": [],
   "source": [
    "# Q4: Read in the csv file \"olive.csv\" with pandas. \n",
    "#     The filename is stored in the variable `olive_path`\n",
    "#     Assign it to variable `df`\n",
    "df = pd.read_csv('olive.csv', header = 0)\n",
    "\n",
    "# The fields are:\n",
    "\n",
    "# Unnamed: 0\n",
    "# region\n",
    "# area\n",
    "# palmitic\n",
    "# palmitoleic\n",
    "# stearic\n",
    "# oleic\n",
    "# linoleic\n",
    "# linolenic\n",
    "# arachidic\n",
    "# eicosenoic\n",
    "\n"
   ]
  },
  {
   "cell_type": "code",
   "execution_count": 24,
   "metadata": {},
   "outputs": [
    {
     "name": "stdout",
     "output_type": "stream",
     "text": [
      "(572, 11)\n"
     ]
    }
   ],
   "source": [
    "# Q5: How many rows and columns are there in `df`? Put your answer in a variable `df_shape`.\n",
    "df_shape = df.shape"
   ]
  },
  {
   "cell_type": "code",
   "execution_count": 76,
   "metadata": {},
   "outputs": [],
   "source": [
    "# Q6: assign the first 2 rows of `df` to `df_first_two`\n",
    "df_first_two =df.iloc[0:2]"
   ]
  },
  {
   "cell_type": "code",
   "execution_count": 99,
   "metadata": {},
   "outputs": [
    {
     "name": "stdout",
     "output_type": "stream",
     "text": [
      "2\n"
     ]
    }
   ],
   "source": [
    "# Q7: How many distinct data types are there in `df`?\n",
    "df_data_types_count = len(df.dtypes.value_counts())\n",
    "print(df_data_types_count)\n"
   ]
  },
  {
   "cell_type": "code",
   "execution_count": 73,
   "metadata": {},
   "outputs": [
    {
     "data": {
      "text/plain": [
       "0     NaN\n",
       "1     NaN\n",
       "2     NaN\n",
       "3     NaN\n",
       "4     NaN\n",
       "       ..\n",
       "567   NaN\n",
       "568   NaN\n",
       "569   NaN\n",
       "570   NaN\n",
       "571   NaN\n",
       "Name: sub_region_raw, Length: 572, dtype: float64"
      ]
     },
     "execution_count": 73,
     "metadata": {},
     "output_type": "execute_result"
    }
   ],
   "source": [
    "# Q8: In `df`, create a new column 'sub_region_raw', which will be a copy of the column 'Unnamed: 0'\n",
    "df['sub_region_raw']=df.iloc[:,0]\n",
    "df['sub_region_raw']"
   ]
  },
  {
   "cell_type": "code",
   "execution_count": 77,
   "metadata": {},
   "outputs": [],
   "source": [
    "# Q9: In `df`, rename 'Unnamed: 0' to 'sub_region_desc'\n",
    "df.rename(columns={'Unnamed: 0':'sub_region_desc'}, inplace=True)"
   ]
  },
  {
   "cell_type": "code",
   "execution_count": 78,
   "metadata": {},
   "outputs": [],
   "source": [
    "# Q10: In `df`, rename the column 'area' to: 'sub_region'\n",
    "df.rename(columns={'area':'sub_region'}, inplace=True)\n"
   ]
  },
  {
   "cell_type": "code",
   "execution_count": 79,
   "metadata": {},
   "outputs": [
    {
     "data": {
      "text/html": [
       "<div>\n",
       "<style scoped>\n",
       "    .dataframe tbody tr th:only-of-type {\n",
       "        vertical-align: middle;\n",
       "    }\n",
       "\n",
       "    .dataframe tbody tr th {\n",
       "        vertical-align: top;\n",
       "    }\n",
       "\n",
       "    .dataframe thead th {\n",
       "        text-align: right;\n",
       "    }\n",
       "</style>\n",
       "<table border=\"1\" class=\"dataframe\">\n",
       "  <thead>\n",
       "    <tr style=\"text-align: right;\">\n",
       "      <th></th>\n",
       "      <th>sub_region_desc</th>\n",
       "      <th>region</th>\n",
       "      <th>sub_region</th>\n",
       "      <th>palmitic</th>\n",
       "      <th>palmitoleic</th>\n",
       "      <th>stearic</th>\n",
       "      <th>oleic</th>\n",
       "      <th>linoleic</th>\n",
       "      <th>linolenic</th>\n",
       "      <th>arachidic</th>\n",
       "      <th>eicosenoic</th>\n",
       "    </tr>\n",
       "  </thead>\n",
       "  <tbody>\n",
       "    <tr>\n",
       "      <td>0</td>\n",
       "      <td>1.North-Apulia</td>\n",
       "      <td>1</td>\n",
       "      <td>1</td>\n",
       "      <td>1075</td>\n",
       "      <td>75</td>\n",
       "      <td>226</td>\n",
       "      <td>7823</td>\n",
       "      <td>672</td>\n",
       "      <td>36</td>\n",
       "      <td>60</td>\n",
       "      <td>29</td>\n",
       "    </tr>\n",
       "    <tr>\n",
       "      <td>1</td>\n",
       "      <td>2.North-Apulia</td>\n",
       "      <td>1</td>\n",
       "      <td>1</td>\n",
       "      <td>1088</td>\n",
       "      <td>73</td>\n",
       "      <td>224</td>\n",
       "      <td>7709</td>\n",
       "      <td>781</td>\n",
       "      <td>31</td>\n",
       "      <td>61</td>\n",
       "      <td>29</td>\n",
       "    </tr>\n",
       "    <tr>\n",
       "      <td>2</td>\n",
       "      <td>3.North-Apulia</td>\n",
       "      <td>1</td>\n",
       "      <td>1</td>\n",
       "      <td>911</td>\n",
       "      <td>54</td>\n",
       "      <td>246</td>\n",
       "      <td>8113</td>\n",
       "      <td>549</td>\n",
       "      <td>31</td>\n",
       "      <td>63</td>\n",
       "      <td>29</td>\n",
       "    </tr>\n",
       "    <tr>\n",
       "      <td>3</td>\n",
       "      <td>4.North-Apulia</td>\n",
       "      <td>1</td>\n",
       "      <td>1</td>\n",
       "      <td>966</td>\n",
       "      <td>57</td>\n",
       "      <td>240</td>\n",
       "      <td>7952</td>\n",
       "      <td>619</td>\n",
       "      <td>50</td>\n",
       "      <td>78</td>\n",
       "      <td>35</td>\n",
       "    </tr>\n",
       "    <tr>\n",
       "      <td>4</td>\n",
       "      <td>5.North-Apulia</td>\n",
       "      <td>1</td>\n",
       "      <td>1</td>\n",
       "      <td>1051</td>\n",
       "      <td>67</td>\n",
       "      <td>259</td>\n",
       "      <td>7771</td>\n",
       "      <td>672</td>\n",
       "      <td>50</td>\n",
       "      <td>80</td>\n",
       "      <td>46</td>\n",
       "    </tr>\n",
       "  </tbody>\n",
       "</table>\n",
       "</div>"
      ],
      "text/plain": [
       "  sub_region_desc  region  sub_region  palmitic  palmitoleic  stearic  oleic  \\\n",
       "0  1.North-Apulia       1           1      1075           75      226   7823   \n",
       "1  2.North-Apulia       1           1      1088           73      224   7709   \n",
       "2  3.North-Apulia       1           1       911           54      246   8113   \n",
       "3  4.North-Apulia       1           1       966           57      240   7952   \n",
       "4  5.North-Apulia       1           1      1051           67      259   7771   \n",
       "\n",
       "   linoleic  linolenic  arachidic  eicosenoic  \n",
       "0       672         36         60          29  \n",
       "1       781         31         61          29  \n",
       "2       549         31         63          29  \n",
       "3       619         50         78          35  \n",
       "4       672         50         80          46  "
      ]
     },
     "execution_count": 79,
     "metadata": {},
     "output_type": "execute_result"
    }
   ],
   "source": [
    "df.head()"
   ]
  },
  {
   "cell_type": "code",
   "execution_count": 47,
   "metadata": {},
   "outputs": [
    {
     "name": "stdout",
     "output_type": "stream",
     "text": [
      "[1 2 3]\n"
     ]
    }
   ],
   "source": [
    "# Q11: In `df`, get the unique values of the field 'region'\n",
    "region_unique = df.region.unique()\n",
    "print(region_unique)"
   ]
  },
  {
   "cell_type": "code",
   "execution_count": 100,
   "metadata": {},
   "outputs": [
    {
     "data": {
      "text/plain": [
       "9"
      ]
     },
     "execution_count": 100,
     "metadata": {},
     "output_type": "execute_result"
    }
   ],
   "source": [
    "# Q12: In `df`, how many unique values of the field 'sub_region' are there?\n",
    "sub_region_unique_count = len(df.sub_region.value_counts())\n",
    "sub_region_unique_count\n",
    "# should be an integer"
   ]
  },
  {
   "cell_type": "code",
   "execution_count": 80,
   "metadata": {},
   "outputs": [
    {
     "name": "stdout",
     "output_type": "stream",
     "text": [
      "                  region  sub_region  palmitic  palmitoleic  stearic  oleic  \\\n",
      "sub_region_desc                                                               \n",
      "1.North-Apulia         1           1      1075           75      226   7823   \n",
      "2.North-Apulia         1           1      1088           73      224   7709   \n",
      "3.North-Apulia         1           1       911           54      246   8113   \n",
      "4.North-Apulia         1           1       966           57      240   7952   \n",
      "5.North-Apulia         1           1      1051           67      259   7771   \n",
      "...                  ...         ...       ...          ...      ...    ...   \n",
      "568.West-Liguria       3           8      1280          110      290   7490   \n",
      "569.West-Liguria       3           8      1060          100      270   7740   \n",
      "570.West-Liguria       3           8      1010           90      210   7720   \n",
      "571.West-Liguria       3           8       990          120      250   7750   \n",
      "572.West-Liguria       3           8       960           80      240   7950   \n",
      "\n",
      "                  linoleic  linolenic  arachidic  eicosenoic  \n",
      "sub_region_desc                                               \n",
      "1.North-Apulia         672         36         60          29  \n",
      "2.North-Apulia         781         31         61          29  \n",
      "3.North-Apulia         549         31         63          29  \n",
      "4.North-Apulia         619         50         78          35  \n",
      "5.North-Apulia         672         50         80          46  \n",
      "...                    ...        ...        ...         ...  \n",
      "568.West-Liguria       790         10         10           2  \n",
      "569.West-Liguria       810         10         10           3  \n",
      "570.West-Liguria       970          0          0           2  \n",
      "571.West-Liguria       870         10         10           2  \n",
      "572.West-Liguria       740         10         20           2  \n",
      "\n",
      "[572 rows x 10 columns]\n"
     ]
    }
   ],
   "source": [
    "# Q13: Lets take a look at the field `sub_region_desc`:\n",
    "\n",
    "# >>> df['sub_region_desc'].head(5)\n",
    "# 0    1.North-Apulia\n",
    "# 1    2.North-Apulia\n",
    "# 2    3.North-Apulia\n",
    "# 3    4.North-Apulia\n",
    "# 4    5.North-Apulia\n",
    "\n",
    "# Looks like 'sub_region_desc' has line numbers attached to the beginning of region name. \n",
    "#Remove those and get the unique values in that field, assign it to `srd_unique`\n",
    "srd_no_i = df.set_index('sub_region_desc')\n",
    "print(srd_no_i)"
   ]
  },
  {
   "cell_type": "code",
   "execution_count": 82,
   "metadata": {},
   "outputs": [],
   "source": [
    "df.sub_region_desc = df.sub_region_desc.str.lstrip('0123456789.- ')\n",
    "srd_unique= df['sub_region_desc'].unique()"
   ]
  },
  {
   "cell_type": "code",
   "execution_count": 83,
   "metadata": {},
   "outputs": [
    {
     "data": {
      "text/plain": [
       "array(['North-Apulia', 'Calabria', 'South-Apulia', 'Sicily',\n",
       "       'Inland-Sardinia', 'Coast-Sardinia', 'Umbria', 'East-Liguria',\n",
       "       'West-Liguria'], dtype=object)"
      ]
     },
     "execution_count": 83,
     "metadata": {},
     "output_type": "execute_result"
    }
   ],
   "source": [
    "srd_unique"
   ]
  },
  {
   "cell_type": "code",
   "execution_count": null,
   "metadata": {},
   "outputs": [],
   "source": []
  }
 ],
 "metadata": {
  "kernelspec": {
   "display_name": "Python 3",
   "language": "python",
   "name": "python3"
  },
  "language_info": {
   "codemirror_mode": {
    "name": "ipython",
    "version": 3
   },
   "file_extension": ".py",
   "mimetype": "text/x-python",
   "name": "python",
   "nbconvert_exporter": "python",
   "pygments_lexer": "ipython3",
   "version": "3.7.4"
  }
 },
 "nbformat": 4,
 "nbformat_minor": 2
}
